{
 "cells": [
  {
   "cell_type": "code",
   "execution_count": 1,
   "metadata": {},
   "outputs": [
    {
     "name": "stdout",
     "output_type": "stream",
     "text": [
      "Collecting mrob\n",
      "  Downloading mrob-0.0.8-py3-none-manylinux_2_12_x86_64.manylinux2010_x86_64.whl (1.2 MB)\n",
      "\u001b[K     |████████████████████████████████| 1.2 MB 532 kB/s eta 0:00:01\n",
      "\u001b[?25hInstalling collected packages: mrob\n",
      "Successfully installed mrob-0.0.8\n",
      "\u001b[33mWARNING: You are using pip version 20.2.4; however, version 22.0.3 is available.\n",
      "You should consider upgrading via the '/home/dimitry/anaconda3/bin/python -m pip install --upgrade pip' command.\u001b[0m\n"
     ]
    }
   ],
   "source": [
    "!pip install mrob"
   ]
  },
  {
   "cell_type": "code",
   "execution_count": 1,
   "metadata": {},
   "outputs": [],
   "source": [
    "import mrob\n",
    "import numpy as np"
   ]
  },
  {
   "cell_type": "markdown",
   "metadata": {},
   "source": [
    "# Graph SLAM, using a library\n",
    "in this seminar, we will show some of the functionalities of using a library for solving graphSLAM. [MROB: Mobile Robotics library](https://github.com/MobileRoboticsSkoltech/mrob) is a library for general use of perception techniques: FGraphs, Rigid Body Transformation and Point Cloud alignment.\n",
    "\n",
    "We will show two basic problems in 2D and discuss the \n",
    "\n",
    "Other interesting libraries to explore are g2o (Kumerle'2011) and GTSAM (Dellaert'2011)."
   ]
  },
  {
   "cell_type": "markdown",
   "metadata": {},
   "source": [
    "## 1 Creating a Graph\n",
    "We will start by creating a graph, and then add a node. You can get familiar by using help or from the examples in mrob (see github python_examples)"
   ]
  },
  {
   "cell_type": "code",
   "execution_count": 2,
   "metadata": {},
   "outputs": [],
   "source": [
    "graph = mrob.FGraph()"
   ]
  },
  {
   "cell_type": "code",
   "execution_count": 3,
   "metadata": {},
   "outputs": [
    {
     "name": "stdout",
     "output_type": "stream",
     "text": [
      "Status of graph: 0Nodes and 0Factors.\n"
     ]
    }
   ],
   "source": [
    "with mrob.ostream_redirect(stdout=True, stderr=True):\n",
    "      graph.print()"
   ]
  },
  {
   "cell_type": "markdown",
   "metadata": {},
   "source": [
    "## 2. Add the first Node $x_0$\n",
    "We will add the first node to the Fgraph. Create a random initial state ($\\sigma = 0.1 $)and add it to the graph. For that, use the function add_node_pose_2d().\n",
    "\n",
    "Print your graph in simplified mode and in complete form."
   ]
  },
  {
   "cell_type": "code",
   "execution_count": 4,
   "metadata": {},
   "outputs": [
    {
     "data": {
      "text/plain": [
       "array([0.05489211, 0.11113756, 0.0120443 ])"
      ]
     },
     "execution_count": 4,
     "metadata": {},
     "output_type": "execute_result"
    }
   ],
   "source": [
    "initial = np.random.normal(0, 0.1, 3)\n",
    "initial"
   ]
  },
  {
   "cell_type": "code",
   "execution_count": 5,
   "metadata": {},
   "outputs": [
    {
     "data": {
      "text/plain": [
       "0"
      ]
     },
     "execution_count": 5,
     "metadata": {},
     "output_type": "execute_result"
    }
   ],
   "source": [
    "graph.add_node_pose_2d(initial)"
   ]
  },
  {
   "cell_type": "code",
   "execution_count": 6,
   "metadata": {},
   "outputs": [
    {
     "name": "stdout",
     "output_type": "stream",
     "text": [
      "Status of graph: 1Nodes and 0Factors.\n",
      "Printing NodePose2d: 0, state = \n",
      "0.0548921\n",
      " 0.111138\n",
      "0.0120443\n",
      "and neighbour factors 0\n"
     ]
    }
   ],
   "source": [
    "with mrob.ostream_redirect(stdout=True, stderr=True):\n",
    "      graph.print(True)"
   ]
  },
  {
   "cell_type": "markdown",
   "metadata": {},
   "source": [
    "## 3. Add a factor to $x_0$\n",
    "Now that we have a node in the graph, we want to add the first observation. In this case it will be an anchor factor, assuming we are observing that the node is at $[0,0,0]$ with information $\\Sigma_{x_0}= 10^6 I$ "
   ]
  },
  {
   "cell_type": "code",
   "execution_count": 7,
   "metadata": {},
   "outputs": [
    {
     "name": "stdout",
     "output_type": "stream",
     "text": [
      "\u001b[0;31mDocstring:\u001b[0m add_factor_1pose_2d(self: mrob.mrob.FGraph, arg0: numpy.ndarray[numpy.float64[3, 1]], arg1: int, arg2: numpy.ndarray[numpy.float64[3, 3]]) -> None\n",
      "\u001b[0;31mType:\u001b[0m      method\n"
     ]
    }
   ],
   "source": [
    "?graph.add_factor_1pose_2d"
   ]
  },
  {
   "cell_type": "code",
   "execution_count": 16,
   "metadata": {},
   "outputs": [
    {
     "name": "stdout",
     "output_type": "stream",
     "text": [
      "Status of graph: 1Nodes and 1Factors.\n",
      "Printing NodePose2d: 0, state = \n",
      "0.0548921\n",
      " 0.111138\n",
      "0.0120443\n",
      "and neighbour factors 1\n",
      "Printing Factor: 0, obs= \n",
      "0\n",
      "0\n",
      "0\n",
      " Residuals= \n",
      "6.91883e-310\n",
      "6.91883e-310\n",
      "6.91883e-310 \n",
      "and Information matrix\n",
      "1e+06     0     0\n",
      "    0 1e+06     0\n",
      "    0     0 1e+06\n",
      " Calculated Jacobian = \n",
      "0 0 0\n",
      "0 0 0\n",
      "0 0 0\n",
      " Chi2 error = 0 and neighbour Nodes 1\n"
     ]
    }
   ],
   "source": [
    "\n",
    "W_0 = np.identity(3)*1e6\n",
    "observationt = np.zeros(3)\n",
    "\n",
    "with mrob.ostream_redirect(stdout=True, stderr=True):\n",
    "      graph.add_factor_1pose_2d(observationt,0, W_0)\n",
    "      graph.print(True)"
   ]
  },
  {
   "cell_type": "markdown",
   "metadata": {},
   "source": [
    "## 4. Analize the current error in the graph\n",
    "For this, use the function chi2, which evaluates the problem at the current point and calculates the current value of the residuals.\n",
    "\n",
    "You can also get the current state estimate by using the function get_estimated_state(). Print its current value."
   ]
  },
  {
   "cell_type": "code",
   "execution_count": 14,
   "metadata": {},
   "outputs": [
    {
     "name": "stdout",
     "output_type": "stream",
     "text": [
      "\u001b[0;31mDocstring:\u001b[0m\n",
      "chi2(self: mrob.mrob.FGraph, evaluateResidualsFlag: bool = True) -> float\n",
      "\n",
      "Calculated the chi2 of the problem.\n",
      "By default re-evaluates residuals, \n",
      "if set to false if doesn't:    evaluateResidualsFlag = False\n",
      "\u001b[0;31mType:\u001b[0m      method\n"
     ]
    }
   ],
   "source": [
    "?graph.chi2"
   ]
  },
  {
   "cell_type": "code",
   "execution_count": 17,
   "metadata": {},
   "outputs": [
    {
     "data": {
      "text/plain": [
       "7754.8832135923085"
      ]
     },
     "execution_count": 17,
     "metadata": {},
     "output_type": "execute_result"
    }
   ],
   "source": [
    "graph.chi2()"
   ]
  },
  {
   "cell_type": "code",
   "execution_count": 19,
   "metadata": {},
   "outputs": [
    {
     "data": {
      "text/plain": [
       "[array([[0.05489211],\n",
       "        [0.11113756],\n",
       "        [0.0120443 ]])]"
      ]
     },
     "execution_count": 19,
     "metadata": {},
     "output_type": "execute_result"
    }
   ],
   "source": [
    "graph.get_estimated_state()"
   ]
  },
  {
   "cell_type": "markdown",
   "metadata": {},
   "source": [
    "## 5. Solve\n",
    "We will use the Gauss Newton routine (default) with one iteration. For that, call the function solve() and reculate the current estimate and the error."
   ]
  },
  {
   "cell_type": "code",
   "execution_count": 22,
   "metadata": {},
   "outputs": [
    {
     "name": "stdout",
     "output_type": "stream",
     "text": [
      "\n",
      "FGraphSolve::optimize_levenberg_marquardt: iteration 1 lambda = 1e-05, error 0, and delta = 0\n",
      "Status of graph: 1Nodes and 1Factors.\n",
      "Printing NodePose2d: 0, state = \n",
      "0\n",
      "0\n",
      "0\n",
      "and neighbour factors 1\n",
      "Printing Factor: 0, obs= \n",
      "0\n",
      "0\n",
      "0\n",
      " Residuals= \n",
      "0\n",
      "0\n",
      "0 \n",
      "and Information matrix\n",
      "1e+06     0     0\n",
      "    0 1e+06     0\n",
      "    0     0 1e+06\n",
      " Calculated Jacobian = \n",
      "1 0 0\n",
      "0 1 0\n",
      "0 0 1\n",
      " Chi2 error = 0 and neighbour Nodes 1\n"
     ]
    }
   ],
   "source": [
    "with mrob.ostream_redirect(stdout=True, stderr=True):\n",
    "    graph.solve()\n",
    "    graph.print(True)"
   ]
  },
  {
   "cell_type": "code",
   "execution_count": null,
   "metadata": {},
   "outputs": [],
   "source": []
  }
 ],
 "metadata": {
  "kernelspec": {
   "display_name": "Python 3",
   "language": "python",
   "name": "python3"
  },
  "language_info": {
   "codemirror_mode": {
    "name": "ipython",
    "version": 3
   },
   "file_extension": ".py",
   "mimetype": "text/x-python",
   "name": "python",
   "nbconvert_exporter": "python",
   "pygments_lexer": "ipython3",
   "version": "3.7.1"
  }
 },
 "nbformat": 4,
 "nbformat_minor": 4
}
