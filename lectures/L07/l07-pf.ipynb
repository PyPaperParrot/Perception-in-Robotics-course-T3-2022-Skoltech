{
 "cells": [
  {
   "cell_type": "markdown",
   "metadata": {},
   "source": [
    "# Particle Filter\n",
    "## Task 1\n",
    "Create the Particle set of size $N=1000$ and with equal weights, given that $x\\sim \\mathcal{N}(0,1)$.\n",
    "\n",
    "Plot the histogram of values."
   ]
  },
  {
   "cell_type": "code",
   "execution_count": 56,
   "metadata": {},
   "outputs": [
    {
     "data": {
      "image/png": "[encoded data removed]",
      "text/plain": [
       "<Figure size 432x288 with 1 Axes>"
      ]
     },
     "metadata": {
      "needs_background": "light"
     },
     "output_type": "display_data"
    }
   ],
   "source": [
    "import numpy as np\n",
    "import matplotlib.pyplot as plt\n",
    "\n",
    "N = 1000\n",
    "particles = np.random.normal(0, 1, size=N)\n",
    "\n",
    "plt.hist(particles, bins=20)\n",
    "plt.show()"
   ]
  },
  {
   "cell_type": "markdown",
   "metadata": {},
   "source": [
    "## Task 2\n",
    "Propagate the particle set, given the following 1d system: $y = (x+\\eta)^2$, where $\\eta\\sim\\mathcal{N}(0,2)$ and obtain $\\bar{\\text{bel}}(y)$"
   ]
  },
  {
   "cell_type": "code",
   "execution_count": 51,
   "metadata": {},
   "outputs": [
    {
     "data": {
      "image/png": "[encoded data removed]",
      "text/plain": [
       "<Figure size 432x288 with 1 Axes>"
      ]
     },
     "metadata": {
      "needs_background": "light"
     },
     "output_type": "display_data"
    }
   ],
   "source": [
    "\n",
    "weights = np.ones(N) / N\n",
    "eta = np.random.normal(0, np.sqrt(2), 1000)\n",
    "y = (particles + eta) ** 2 \n",
    "\n",
    "y_mean = y.mean()\n",
    "y_std = y.std()\n",
    "plt.hist(y, bins=30)\n",
    "plt.show()\n"
   ]
  },
  {
   "cell_type": "markdown",
   "id": "2bfcd281",
   "metadata": {},
   "source": [
    "## Task 3\n",
    "Now, let's consider the observation function $z = h(y,\\delta) = y + \\delta$ where the probablistic model is $z \\sim \\mathcal{N}(z;h(y),2^2)$ and the observation $z=5$. Calculate the new weighs of the particle set that represent the posterior belief $\\text{bel}(y)$"
   ]
  },
  {
   "cell_type": "markdown",
   "metadata": {},
   "source": [
    "What can you say about this PDF?"
   ]
  },
  {
   "cell_type": "code",
   "execution_count": 54,
   "metadata": {},
   "outputs": [],
   "source": [
    "from scipy.stats import norm\n",
    "import scipy.integrate\n",
    "\n",
    "z = 5\n",
    "def numeric_posterior(z, y):\n",
    "    likelihood = lambda y: norm(loc=y, scale=2).pdf(z)\n",
    "    return likelihood(y)"
   ]
  },
  {
   "cell_type": "code",
   "execution_count": 55,
   "id": "81ca0287",
   "metadata": {},
   "outputs": [
    {
     "name": "stdout",
     "output_type": "stream",
     "text": [
      "2.995294771312755\n",
      "3.7561569972879325\n"
     ]
    }
   ],
   "source": [
    "new_weights = numeric_posterior(z, y) \n",
    "new_weights /= new_weights.sum()\n",
    "print(y_mean)\n",
    "print((y * new_weights).sum())"
   ]
  },
  {
   "cell_type": "code",
   "execution_count": 58,
   "id": "d84d2759",
   "metadata": {},
   "outputs": [
    {
     "data": {
      "text/plain": [
       "(641,)"
      ]
     },
     "execution_count": 58,
     "metadata": {},
     "output_type": "execute_result"
    }
   ],
   "source": [
    "new_weights[new_weights < 1e-3].shape\n"
   ]
  },
  {
   "cell_type": "markdown",
   "metadata": {},
   "source": [
    "Q: What is the mean of the new particle set?\n",
    "\n",
    "Q: How many particles have a small weight (<1e-3 for instance)? How can this be a problem?"
   ]
  }
 ],
 "metadata": {
  "kernelspec": {
   "display_name": "Python 3",
   "language": "python",
   "name": "python3"
  },
  "language_info": {
   "codemirror_mode": {
    "name": "ipython",
    "version": 3
   },
   "file_extension": ".py",
   "mimetype": "text/x-python",
   "name": "python",
   "nbconvert_exporter": "python",
   "pygments_lexer": "ipython3",
   "version": "3.7.1"
  }
 },
 "nbformat": 4,
 "nbformat_minor": 5
}
