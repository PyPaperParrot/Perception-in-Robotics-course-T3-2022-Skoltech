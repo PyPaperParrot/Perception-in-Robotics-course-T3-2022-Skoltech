{
 "cells": [
  {
   "cell_type": "code",
   "execution_count": null,
   "metadata": {},
   "outputs": [],
   "source": [
    "import numpy as np\n",
    "import matplotlib.pyplot as plt"
   ]
  },
  {
   "cell_type": "markdown",
   "metadata": {},
   "source": [
    "# Motion and Sensor Models\n",
    "This seminar we will discuss some of the techniques to obtain the probabilistic models explained during the lecture."
   ]
  },
  {
   "cell_type": "markdown",
   "metadata": {},
   "source": [
    "## Task 1. 3D point model\n",
    "Let's assume you have the following 3D kinematic motion model:\n",
    "\n",
    "$$x_t = x_{t-1} + \\Delta t ( u_t + \\epsilon_t), \\qquad \\text{where }x = \\left[ \\begin{array}{c} x\\\\ y \\\\ z \\end{array} \\right], \\qquad u_t = \\left[ \\begin{array}{c} v_x\\\\ v_y \\\\ v_z \\end{array} \\right], \\qquad \\epsilon \\sim \\mathcal{N}(0,R), \\qquad x_{t-1} \\sim \\mathcal{N}(\\mu_{t-1},\\Sigma_{t-1})$$\n",
    "\n",
    "Calculate the mean and covariance of the new random variable $x_t$ by using the direct derivation from the expectation operator. Send the instructors your detailed derivation.\n",
    "\n",
    "*Hint* you may want to take a look at L05, section 4. (video L05 16:51)\n",
    "You may also want to take a refresh from L02, section 3 (video L02 23:20)"
   ]
  },
  {
   "cell_type": "markdown",
   "metadata": {},
   "source": []
  },
  {
   "cell_type": "markdown",
   "metadata": {},
   "source": [
    "## Task 2. Nonlinear Model\n",
    "Now, let's assume we have the following non-linear model:\n",
    "\n",
    "$$x_t = g(x_{t-1},u_t,\\epsilon_t) = x_{t-1}^2 + u_t + \\epsilon_t, \\qquad \\text{where :   } x_{t-1} \\sim \\mathcal{N}(\\mu_{t-1} = 1,\\Sigma_{t-1}=4), \\qquad u_t = 0, \\qquad \\epsilon_t \\sim \\mathcal{N}(0,R)$$\n",
    "\n",
    "Calculate the mean and covariance of the new random variable $x_t$ by using the direct derivation from the expectation operator. Send the instructors your detailed derivation.\n",
    "\n",
    "*Hint* you may want to take a look at L05, section 2. (video L05 1:08:05)\n",
    "You may also want to take a refresh from L02, section 3.2 (video L02 33:12)"
   ]
  },
  {
   "cell_type": "markdown",
   "metadata": {},
   "source": []
  },
  {
   "cell_type": "markdown",
   "metadata": {},
   "source": [
    "# On Warping angles\n",
    "Now, the following tasks are a practical approach to angles and orientations in 2D and is dedicated to the problem of wrapping angles, when it is necessary to do it and when not.\n",
    "\n",
    "Any angle can be represented by a real value $\\alpha \\in \\mathbb{R}$.\n",
    "\n",
    "However, we know that by this definition, multiple values represent the same angle since $\\alpha = \\alpha +2\\pi\\cdot k$. This property of the representation (surjective) of many values mapping to the same angle is not a problem, since this angle is unique.\n",
    "\n",
    "Now we will investigate different effects on the angles, applied to state estimation problems.\n",
    "\n",
    "## Task 3: Open loop propagation\n",
    "Given the system $x_t = x_{t-1}+u_t + \\eta_t$, propagate for the sequence $u_t = 0.3$ for $t=1,\\dots,100$. \n",
    "\n",
    "$\\eta_t\\sim\\mathcal{N}(0,0.1)$ and $x_0\\sim\\mathcal{N}(0,0)$ (perfect information)\n",
    "\n",
    "You can use the *wrap* function from PS2 (copied here below)"
   ]
  },
  {
   "cell_type": "code",
   "execution_count": null,
   "metadata": {},
   "outputs": [],
   "source": [
    "import numpy as np\n",
    "import matplotlib.pyplot as plt\n",
    "\n",
    "def wrap_angle(angle):\n",
    "    \"\"\"\n",
    "    Wraps the given angle to the range [-pi, +pi].\n",
    "\n",
    "    :param angle: The angle (in rad) to wrap (can be unbounded).\n",
    "    :return: The wrapped angle (guaranteed to in [-pi, +pi]).\n",
    "    \"\"\"\n",
    "\n",
    "    pi2 = 2 * np.pi\n",
    "\n",
    "    while angle < -np.pi:\n",
    "        angle += pi2\n",
    "\n",
    "    while angle >= np.pi:\n",
    "        angle -= pi2\n",
    "\n",
    "    return angle\n"
   ]
  },
  {
   "cell_type": "code",
   "execution_count": null,
   "metadata": {},
   "outputs": [],
   "source": [
    "N = 100\n",
    "x = [0]\n",
    "x_gt= [0]\n",
    "R = 0.01\n",
    "u=np.random.randn(N)*np.sqrt(R)+0.3\n",
    "time = [0]\n",
    "for t in range(N):\n",
    "    time.append(t)\n",
    "    x_gt.append(wrap_angle(x_gt[-1]+0.3)) #this will be used later\n",
    "    \n",
    "    # TODO your code here for the mean propagation\n",
    "    \n",
    "plt.plot(time,x_gt,x)\n",
    "plt.show()"
   ]
  },
  {
   "cell_type": "code",
   "execution_count": null,
   "metadata": {},
   "outputs": [],
   "source": [
    "plt.plot(time,np.cos(x_gt), np.cos(x))\n",
    "plt.show()"
   ]
  },
  {
   "cell_type": "markdown",
   "metadata": {},
   "source": [
    "Q: What do you observe on the open loop mean propagation?\n",
    "\n",
    "Q: What happens when transfroming the state variable with a cos() function?"
   ]
  },
  {
   "cell_type": "markdown",
   "metadata": {},
   "source": [
    "## Task 4: Correction\n",
    "we consider the observation model $p(z_t | x_t)$ and the observation function $z_t = h(x_t)+\\delta_t = x_t+\\delta_t, \\quad \\delta\\sim \\mathcal{N}(0,Q)$, for $Q=1$\n",
    "\n",
    "\n",
    "The overeall probabilistic observation model taking into account both random varaibles is\n",
    "$z_t \\sim \\mathcal{N}(z_t | h(x_t), H\\Sigma_xH^T+Q)$, as explained in L05\n",
    "\n",
    "You have implemented below a KF from the propagation and observations models described.\n",
    "\n",
    "Calculate where it is necessary to **wrap** the angle and explain why. Try to achieve a correct solution in the minumum number of times and ellaborate your answer"
   ]
  },
  {
   "cell_type": "code",
   "execution_count": null,
   "metadata": {},
   "outputs": [],
   "source": [
    "Q = 1\n",
    "z = x_gt[1:] + np.random.randn(N)*np.sqrt(Q)"
   ]
  },
  {
   "cell_type": "code",
   "execution_count": null,
   "metadata": {},
   "outputs": [],
   "source": [
    "xp = [0]\n",
    "cov = [0]\n",
    "for t in range(N):\n",
    "    # TODO in the following lines, use as many times as needed the wrap function\n",
    "    xp.append((xp[-1]+u[t]))\n",
    "    cov.append(cov[-1]+R)\n",
    "    k = cov[-1] / (cov[-1] + Q)\n",
    "    xp[-1] = xp[-1] + k *(z[t] - xp[-1])\n",
    "    cov[-1] = (1 - k) * cov[-1]\n",
    "plt.figure(figsize=(15,6))\n",
    "plt.subplot(1,2,1)\n",
    "plt.plot(time,x_gt,xp)\n",
    "plt.subplot(1,2,2)\n",
    "plt.plot(time,np.cos(x_gt), np.cos(xp))\n",
    "plt.show()"
   ]
  }
 ],
 "metadata": {
  "kernelspec": {
   "display_name": "Python 3",
   "language": "python",
   "name": "python3"
  },
  "language_info": {
   "codemirror_mode": {
    "name": "ipython",
    "version": 3
   },
   "file_extension": ".py",
   "mimetype": "text/x-python",
   "name": "python",
   "nbconvert_exporter": "python",
   "pygments_lexer": "ipython3",
   "version": "3.8.10"
  }
 },
 "nbformat": 4,
 "nbformat_minor": 4
}
